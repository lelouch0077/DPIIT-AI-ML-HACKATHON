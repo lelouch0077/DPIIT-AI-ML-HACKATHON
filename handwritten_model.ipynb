{
 "cells": [
  {
   "cell_type": "code",
   "execution_count": null,
   "id": "e004ceba",
   "metadata": {},
   "outputs": [],
   "source": [
    "import os\n",
    "import pandas as pd\n",
    "from PIL import Image\n",
    "from torch.utils.data import Dataset, DataLoader\n",
    "import torch\n",
    "import torch.nn as nn\n",
    "import torchvision.transforms as transforms\n",
    "import torch.optim as optim\n",
    "from torch.nn.utils.rnn import pad_sequence\n",
    "from torchvision.transforms.functional import to_tensor\n",
    "from torch.nn import CTCLoss\n",
    "import string\n",
    "from tqdm import tqdm\n",
    "import editdistance"
   ]
  },
  {
   "cell_type": "code",
   "execution_count": 97,
   "id": "fe8028e5",
   "metadata": {},
   "outputs": [],
   "source": [
    "BATCH_SIZE = 16\n",
    "IMG_HEIGHT = 32\n",
    "IMG_WIDTH = 128\n",
    "EPOCHS = 50\n",
    "DEVICE = torch.device(\"cuda\" if torch.cuda.is_available() else \"cpu\")\n",
    "CHARS = string.ascii_uppercase + string.digits+string.ascii_lowercase+\"-_' \""
   ]
  },
  {
   "cell_type": "code",
   "execution_count": null,
   "id": "5dae9deb",
   "metadata": {},
   "outputs": [],
   "source": [
    "class LabelConverter:\n",
    "    def __init__(self, characters):\n",
    "        \"\"\"\n",
    "        characters: string of all characters in the dataset (excluding CTC blank)\n",
    "        \"\"\"\n",
    "        self.characters = characters\n",
    "        self.char2idx = {char: i + 1 for i, char in enumerate(characters)}  # 0 is reserved for blank\n",
    "        self.idx2char = {i + 1: char for i, char in enumerate(characters)}\n",
    "        self.blank = 0  # CTC requires blank token at index 0\n",
    "        self.idx2char[self.blank] = ''  # for decoding\n",
    "\n",
    "    def encode(self, text):\n",
    "        \"\"\"\n",
    "        Convert a text string to a tensor of indices.\n",
    "        Returns: Tensor of shape [len(text)]\n",
    "        \"\"\"\n",
    "        return torch.tensor([self.char2idx[char] for char in text], dtype=torch.long)\n",
    "\n",
    "    def decode(self, preds, merge_repeated=True):\n",
    "        \"\"\"\n",
    "        Decode model output probabilities/logits into strings.\n",
    "        Args:\n",
    "            preds: Tensor of shape [T, B, C] (logits before/after softmax)\n",
    "            merge_repeated: whether to remove repeated characters\n",
    "\n",
    "        Returns:\n",
    "            List of decoded strings, length = B\n",
    "        \"\"\"\n",
    "        # Take argmax over class dimension\n",
    "        pred_indices = preds.argmax(2).permute(1, 0)  # [B, T]\n",
    "        results = []\n",
    "\n",
    "        for indices in pred_indices:\n",
    "            decoded = []\n",
    "            prev_idx = None\n",
    "            for idx in indices:\n",
    "                idx = idx.item()\n",
    "                if idx == self.blank:\n",
    "                    prev_idx = None  # reset on blank\n",
    "                    continue\n",
    "                if merge_repeated and idx == prev_idx:\n",
    "                    continue\n",
    "                decoded.append(self.idx2char.get(idx, ''))\n",
    "                prev_idx = idx\n",
    "            results.append(''.join(decoded))\n",
    "        return results\n",
    "converter=LabelConverter(CHARS)"
   ]
  },
  {
   "cell_type": "code",
   "execution_count": null,
   "id": "bfbfd61d",
   "metadata": {},
   "outputs": [],
   "source": [
    "class CRNNDataset(Dataset):\n",
    "    def __init__(self, csv_path, transform=None):\n",
    "        df = pd.read_csv(csv_path)\n",
    "        self.paths = df['FILENAME'].values\n",
    "        self.labels = df['IDENTITY'].values\n",
    "        self.transform = transform or transforms.Compose([\n",
    "            transforms.Grayscale(),\n",
    "            transforms.Resize((IMG_HEIGHT, IMG_WIDTH)),\n",
    "            transforms.ToTensor(),\n",
    "            transforms.Normalize((0.5,), (0.5,))\n",
    "        ])\n",
    "\n",
    "    def __len__(self):\n",
    "        return len(self.paths)\n",
    "\n",
    "    def __getitem__(self, idx):\n",
    "        img = Image.open(self.paths[idx]).convert(\"RGB\")\n",
    "        img = self.transform(img)\n",
    "        label = converter.encode(self.labels[idx])\n",
    "        return {'image': img, 'label': label}"
   ]
  },
  {
   "cell_type": "code",
   "execution_count": 108,
   "id": "fb18c3a5",
   "metadata": {},
   "outputs": [],
   "source": [
    "def collate_fn(batch):\n",
    "    images = [item['image'] for item in batch]\n",
    "    labels = [item['label'] for item in batch]\n",
    "    label_lengths = torch.tensor([len(label) for label in labels], dtype=torch.long)\n",
    "    images = torch.stack(images)\n",
    "    labels_concat = torch.cat(labels)\n",
    "    return images, labels_concat, label_lengths"
   ]
  },
  {
   "cell_type": "code",
   "execution_count": 109,
   "id": "b5e4eb61",
   "metadata": {},
   "outputs": [],
   "source": [
    "class CRNN(nn.Module):\n",
    "    def __init__(self, num_classes):\n",
    "        super(CRNN, self).__init__()\n",
    "        self.cnn = nn.Sequential(\n",
    "            nn.Conv2d(1, 64, 3, 1, 1), nn.ReLU(), nn.MaxPool2d(2, 2),\n",
    "            nn.Conv2d(64, 128, 3, 1, 1), nn.ReLU(), nn.MaxPool2d(2, 2),\n",
    "            nn.Conv2d(128, 256, 3, 1, 1), nn.ReLU(),\n",
    "            nn.Conv2d(256, 256, 3, 1, 1), nn.ReLU(), nn.MaxPool2d((2, 1)),\n",
    "            nn.Conv2d(256, 512, 3, 1, 1), nn.BatchNorm2d(512), nn.ReLU(),\n",
    "            nn.Conv2d(512, 512, 3, 1, 1), nn.BatchNorm2d(512), nn.ReLU(), nn.MaxPool2d((2, 1)),\n",
    "            nn.Conv2d(512, 512, 2, 1, 0), nn.ReLU(),\n",
    "        )\n",
    "        self.rnn1 = nn.LSTM(512, 256, bidirectional=True, batch_first=True)\n",
    "        self.rnn2 = nn.LSTM(512, 256, bidirectional=True, batch_first=True)\n",
    "        self.fc = nn.Linear(512, num_classes + 1)  # +1 for CTC blank\n",
    "\n",
    "    def forward(self, x):\n",
    "        x = self.cnn(x)  # [B, 512, 1, W]\n",
    "        x = x.squeeze(2).permute(0, 2, 1)  # [B, W, 512]\n",
    "        x, _ = self.rnn1(x)  # [B, W, 512]\n",
    "        x, _ = self.rnn2(x)  # [B, W, 512]\n",
    "        x = self.fc(x)  # [B, W, C]\n",
    "        return x.permute(1, 0, 2)  # [W, B, C] for CTC"
   ]
  },
  {
   "cell_type": "code",
   "execution_count": 110,
   "id": "6327db06",
   "metadata": {},
   "outputs": [],
   "source": [
    "def calculate_cer(pred, target):\n",
    "    \"\"\"Character Error Rate = (Edit Distance) / (Length of GT)\"\"\"\n",
    "    if len(target) == 0:\n",
    "        return 1.0 if len(pred) > 0 else 0.0\n",
    "    return editdistance.eval(pred, target) / len(target)\n",
    "\n",
    "def calculate_word_accuracy(preds, targets):\n",
    "    \"\"\"Word Accuracy = exact match rate\"\"\"\n",
    "    correct = sum([p == t for p, t in zip(preds, targets)])\n",
    "    return correct / len(targets) if targets else 0.0"
   ]
  },
  {
   "cell_type": "code",
   "execution_count": 114,
   "id": "bf98ebe6",
   "metadata": {},
   "outputs": [],
   "source": [
    "def validate(model, val_loader, criterion, converter, print_samples=False):\n",
    "    model.eval()\n",
    "    val_loss = 0\n",
    "    total_cer = 0\n",
    "    total_words = 0\n",
    "    correct_words = 0\n",
    "\n",
    "    all_preds = []\n",
    "    all_targets = []\n",
    "\n",
    "    with torch.no_grad():\n",
    "        for images, labels, label_lengths in val_loader:\n",
    "            images = images.to(DEVICE)\n",
    "            labels = labels.to(DEVICE)\n",
    "\n",
    "            preds = model(images)\n",
    "            input_lengths = torch.full(size=(images.size(0),), fill_value=preds.size(0), dtype=torch.long)\n",
    "\n",
    "            loss = criterion(preds, labels, input_lengths, label_lengths)\n",
    "            val_loss += loss.item()\n",
    "\n",
    "            # Decode predictions and labels\n",
    "            decoded_preds = converter.decode(preds,merge_repeated=True)\n",
    "            split_labels = []\n",
    "            i = 0\n",
    "            for length in label_lengths:\n",
    "                text = ''.join([converter.idx2char[int(c.item())] for c in labels[i:i+length]])\n",
    "                split_labels.append(text)\n",
    "                i += length\n",
    "\n",
    "            all_preds.extend(decoded_preds)\n",
    "            all_targets.extend(split_labels)\n",
    "\n",
    "            # Print sample predictions\n",
    "            if print_samples:\n",
    "                for pred, target in zip(decoded_preds[:3], split_labels[:3]):\n",
    "                    print(f\"GT: {target} | Pred: {pred}\")\n",
    "\n",
    "    # Compute metrics\n",
    "    total_cer = sum(calculate_cer(p, t) for p, t in zip(all_preds, all_targets)) / len(all_targets)\n",
    "    word_acc = calculate_word_accuracy(all_preds, all_targets)\n",
    "    avg_loss = val_loss / len(val_loader)\n",
    "\n",
    "    return avg_loss, total_cer, word_acc\n"
   ]
  },
  {
   "cell_type": "code",
   "execution_count": null,
   "id": "3602e51d",
   "metadata": {},
   "outputs": [],
   "source": [
    "def train():\n",
    "    # Datasets\n",
    "    train_dataset = CRNNDataset(r'C:\\Users\\Raihan\\OneDrive\\Desktop\\DPIIT HACKATHON\\cvsi_10k_subset.csv')\n",
    "    val_dataset = CRNNDataset(r'C:\\Users\\Raihan\\OneDrive\\Desktop\\DPIIT HACKATHON\\cvsi_val.csv')\n",
    "\n",
    "    train_loader = DataLoader(train_dataset, batch_size=BATCH_SIZE, shuffle=True, collate_fn=collate_fn)\n",
    "    val_loader = DataLoader(val_dataset, batch_size=BATCH_SIZE, shuffle=False, collate_fn=collate_fn)\n",
    "\n",
    "    model = CRNN(num_classes=len(CHARS)).to(DEVICE)\n",
    "    criterion = CTCLoss(blank=0, zero_infinity=True)\n",
    "    optimizer = optim.AdamW(model arameters(), lr=1e-3)\n",
    "\n",
    "    best_val_loss = float('inf')\n",
    "\n",
    "    for epoch in range(EPOCHS):\n",
    "        model.train()\n",
    "        total_loss = 0\n",
    "\n",
    "        for images, labels, label_lengths in tqdm(train_loader, desc=f\"Epoch {epoch+1}\"):\n",
    "            images = images.to(DEVICE)\n",
    "            labels = labels.to(DEVICE)\n",
    "\n",
    "            preds = model(images)\n",
    "            input_lengths = torch.full(size=(images.size(0),), fill_value=preds.size(0), dtype=torch.long)\n",
    "\n",
    "            loss = criterion(preds, labels, input_lengths, label_lengths)\n",
    "            optimizer.zero_grad()\n",
    "            loss.backward()\n",
    "            optimizer.step()\n",
    "            total_loss += loss.item()\n",
    "\n",
    "        avg_train_loss = total_loss / len(train_loader)\n",
    "\n",
    "        # ---- VALIDATION ----\n",
    "        val_loss, val_cer,val_acc = validate(model, val_loader, criterion, converter)\n",
    "\n",
    "        print(f\"[Epoch {epoch+1}] Train Loss: {avg_train_loss:.4f} | Val Loss: {val_loss:.4f} | Val Acc: {val_acc:.2f}|Val CER: {val_cer:.2f}\")\n",
    "\n",
    "        \n",
    "\n",
    "    print(\"Training complete.\")\n",
    "    return model\n"
   ]
  },
  {
   "cell_type": "code",
   "execution_count": 116,
   "id": "a35fa269",
   "metadata": {},
   "outputs": [
    {
     "name": "stderr",
     "output_type": "stream",
     "text": [
      "Epoch 1: 100%|██████████| 625/625 [01:16<00:00,  8.21it/s]\n"
     ]
    },
    {
     "name": "stdout",
     "output_type": "stream",
     "text": [
      "[Epoch 1] Train Loss: 3.2414 | Val Loss: 3.2285 | Val Acc: 0.00|Val CER: 1.00\n"
     ]
    },
    {
     "name": "stderr",
     "output_type": "stream",
     "text": [
      "Epoch 2: 100%|██████████| 625/625 [01:22<00:00,  7.60it/s]\n"
     ]
    },
    {
     "name": "stdout",
     "output_type": "stream",
     "text": [
      "[Epoch 2] Train Loss: 3.1557 | Val Loss: 3.3380 | Val Acc: 0.00|Val CER: 1.00\n"
     ]
    },
    {
     "name": "stderr",
     "output_type": "stream",
     "text": [
      "Epoch 3: 100%|██████████| 625/625 [01:19<00:00,  7.90it/s]\n"
     ]
    },
    {
     "name": "stdout",
     "output_type": "stream",
     "text": [
      "[Epoch 3] Train Loss: 3.1008 | Val Loss: 3.3822 | Val Acc: 0.00|Val CER: 0.94\n"
     ]
    },
    {
     "name": "stderr",
     "output_type": "stream",
     "text": [
      "Epoch 4: 100%|██████████| 625/625 [01:14<00:00,  8.36it/s]\n"
     ]
    },
    {
     "name": "stdout",
     "output_type": "stream",
     "text": [
      "[Epoch 4] Train Loss: 3.0316 | Val Loss: 2.8856 | Val Acc: 0.00|Val CER: 0.82\n"
     ]
    },
    {
     "name": "stderr",
     "output_type": "stream",
     "text": [
      "Epoch 5: 100%|██████████| 625/625 [01:36<00:00,  6.51it/s]\n"
     ]
    },
    {
     "name": "stdout",
     "output_type": "stream",
     "text": [
      "[Epoch 5] Train Loss: 2.9690 | Val Loss: 3.0616 | Val Acc: 0.00|Val CER: 0.80\n"
     ]
    },
    {
     "name": "stderr",
     "output_type": "stream",
     "text": [
      "Epoch 6: 100%|██████████| 625/625 [01:35<00:00,  6.55it/s]\n"
     ]
    },
    {
     "name": "stdout",
     "output_type": "stream",
     "text": [
      "[Epoch 6] Train Loss: 2.9421 | Val Loss: 3.3025 | Val Acc: 0.00|Val CER: 0.81\n"
     ]
    },
    {
     "name": "stderr",
     "output_type": "stream",
     "text": [
      "Epoch 7: 100%|██████████| 625/625 [01:20<00:00,  7.73it/s]\n"
     ]
    },
    {
     "name": "stdout",
     "output_type": "stream",
     "text": [
      "[Epoch 7] Train Loss: 2.9249 | Val Loss: 2.7122 | Val Acc: 0.00|Val CER: 0.82\n"
     ]
    },
    {
     "name": "stderr",
     "output_type": "stream",
     "text": [
      "Epoch 8: 100%|██████████| 625/625 [01:01<00:00, 10.14it/s]\n"
     ]
    },
    {
     "name": "stdout",
     "output_type": "stream",
     "text": [
      "[Epoch 8] Train Loss: 2.8982 | Val Loss: 2.8984 | Val Acc: 0.00|Val CER: 0.79\n"
     ]
    },
    {
     "name": "stderr",
     "output_type": "stream",
     "text": [
      "Epoch 9: 100%|██████████| 625/625 [00:44<00:00, 13.90it/s]\n"
     ]
    },
    {
     "name": "stdout",
     "output_type": "stream",
     "text": [
      "[Epoch 9] Train Loss: 2.8292 | Val Loss: 2.7697 | Val Acc: 0.00|Val CER: 0.78\n"
     ]
    },
    {
     "name": "stderr",
     "output_type": "stream",
     "text": [
      "Epoch 10: 100%|██████████| 625/625 [00:43<00:00, 14.33it/s]\n"
     ]
    },
    {
     "name": "stdout",
     "output_type": "stream",
     "text": [
      "[Epoch 10] Train Loss: 2.7397 | Val Loss: 2.6993 | Val Acc: 0.00|Val CER: 0.74\n"
     ]
    },
    {
     "name": "stderr",
     "output_type": "stream",
     "text": [
      "Epoch 11: 100%|██████████| 625/625 [00:44<00:00, 14.16it/s]\n"
     ]
    },
    {
     "name": "stdout",
     "output_type": "stream",
     "text": [
      "[Epoch 11] Train Loss: 2.5056 | Val Loss: 2.3861 | Val Acc: 0.00|Val CER: 0.71\n"
     ]
    },
    {
     "name": "stderr",
     "output_type": "stream",
     "text": [
      "Epoch 12: 100%|██████████| 625/625 [00:44<00:00, 14.09it/s]\n"
     ]
    },
    {
     "name": "stdout",
     "output_type": "stream",
     "text": [
      "[Epoch 12] Train Loss: 2.0956 | Val Loss: 1.9063 | Val Acc: 0.01|Val CER: 0.58\n"
     ]
    },
    {
     "name": "stderr",
     "output_type": "stream",
     "text": [
      "Epoch 13: 100%|██████████| 625/625 [00:43<00:00, 14.32it/s]\n"
     ]
    },
    {
     "name": "stdout",
     "output_type": "stream",
     "text": [
      "[Epoch 13] Train Loss: 1.7059 | Val Loss: 1.6415 | Val Acc: 0.04|Val CER: 0.46\n"
     ]
    },
    {
     "name": "stderr",
     "output_type": "stream",
     "text": [
      "Epoch 14: 100%|██████████| 625/625 [00:49<00:00, 12.75it/s]\n"
     ]
    },
    {
     "name": "stdout",
     "output_type": "stream",
     "text": [
      "[Epoch 14] Train Loss: 1.3521 | Val Loss: 1.2363 | Val Acc: 0.13|Val CER: 0.34\n"
     ]
    },
    {
     "name": "stderr",
     "output_type": "stream",
     "text": [
      "Epoch 15: 100%|██████████| 625/625 [00:43<00:00, 14.26it/s]\n"
     ]
    },
    {
     "name": "stdout",
     "output_type": "stream",
     "text": [
      "[Epoch 15] Train Loss: 1.0322 | Val Loss: 1.0976 | Val Acc: 0.24|Val CER: 0.26\n"
     ]
    },
    {
     "name": "stderr",
     "output_type": "stream",
     "text": [
      "Epoch 16: 100%|██████████| 625/625 [00:44<00:00, 13.89it/s]\n"
     ]
    },
    {
     "name": "stdout",
     "output_type": "stream",
     "text": [
      "[Epoch 16] Train Loss: 0.8381 | Val Loss: 0.8628 | Val Acc: 0.30|Val CER: 0.22\n"
     ]
    },
    {
     "name": "stderr",
     "output_type": "stream",
     "text": [
      "Epoch 17: 100%|██████████| 625/625 [00:48<00:00, 12.95it/s]\n"
     ]
    },
    {
     "name": "stdout",
     "output_type": "stream",
     "text": [
      "[Epoch 17] Train Loss: 0.7095 | Val Loss: 0.8595 | Val Acc: 0.34|Val CER: 0.20\n"
     ]
    },
    {
     "name": "stderr",
     "output_type": "stream",
     "text": [
      "Epoch 18: 100%|██████████| 625/625 [00:40<00:00, 15.38it/s]\n"
     ]
    },
    {
     "name": "stdout",
     "output_type": "stream",
     "text": [
      "[Epoch 18] Train Loss: 0.5982 | Val Loss: 0.7409 | Val Acc: 0.40|Val CER: 0.18\n"
     ]
    },
    {
     "name": "stderr",
     "output_type": "stream",
     "text": [
      "Epoch 19: 100%|██████████| 625/625 [00:56<00:00, 11.10it/s]\n"
     ]
    },
    {
     "name": "stdout",
     "output_type": "stream",
     "text": [
      "[Epoch 19] Train Loss: 0.5103 | Val Loss: 0.6524 | Val Acc: 0.41|Val CER: 0.17\n"
     ]
    },
    {
     "name": "stderr",
     "output_type": "stream",
     "text": [
      "Epoch 20: 100%|██████████| 625/625 [00:48<00:00, 12.91it/s]\n"
     ]
    },
    {
     "name": "stdout",
     "output_type": "stream",
     "text": [
      "[Epoch 20] Train Loss: 0.4490 | Val Loss: 0.6025 | Val Acc: 0.41|Val CER: 0.17\n"
     ]
    },
    {
     "name": "stderr",
     "output_type": "stream",
     "text": [
      "Epoch 21: 100%|██████████| 625/625 [00:45<00:00, 13.68it/s]\n"
     ]
    },
    {
     "name": "stdout",
     "output_type": "stream",
     "text": [
      "[Epoch 21] Train Loss: 0.3900 | Val Loss: 0.6862 | Val Acc: 0.45|Val CER: 0.16\n"
     ]
    },
    {
     "name": "stderr",
     "output_type": "stream",
     "text": [
      "Epoch 22: 100%|██████████| 625/625 [01:01<00:00, 10.24it/s]\n"
     ]
    },
    {
     "name": "stdout",
     "output_type": "stream",
     "text": [
      "[Epoch 22] Train Loss: 0.3458 | Val Loss: 0.5917 | Val Acc: 0.48|Val CER: 0.15\n"
     ]
    },
    {
     "name": "stderr",
     "output_type": "stream",
     "text": [
      "Epoch 23: 100%|██████████| 625/625 [01:11<00:00,  8.73it/s]\n"
     ]
    },
    {
     "name": "stdout",
     "output_type": "stream",
     "text": [
      "[Epoch 23] Train Loss: 0.2942 | Val Loss: 0.5367 | Val Acc: 0.50|Val CER: 0.14\n"
     ]
    },
    {
     "name": "stderr",
     "output_type": "stream",
     "text": [
      "Epoch 24: 100%|██████████| 625/625 [00:40<00:00, 15.29it/s]\n"
     ]
    },
    {
     "name": "stdout",
     "output_type": "stream",
     "text": [
      "[Epoch 24] Train Loss: 0.2639 | Val Loss: 0.6386 | Val Acc: 0.51|Val CER: 0.14\n"
     ]
    },
    {
     "name": "stderr",
     "output_type": "stream",
     "text": [
      "Epoch 25: 100%|██████████| 625/625 [00:40<00:00, 15.45it/s]\n"
     ]
    },
    {
     "name": "stdout",
     "output_type": "stream",
     "text": [
      "[Epoch 25] Train Loss: 0.2331 | Val Loss: 0.5931 | Val Acc: 0.53|Val CER: 0.14\n"
     ]
    },
    {
     "name": "stderr",
     "output_type": "stream",
     "text": [
      "Epoch 26: 100%|██████████| 625/625 [00:43<00:00, 14.49it/s]\n"
     ]
    },
    {
     "name": "stdout",
     "output_type": "stream",
     "text": [
      "[Epoch 26] Train Loss: 0.2072 | Val Loss: 0.5867 | Val Acc: 0.53|Val CER: 0.13\n"
     ]
    },
    {
     "name": "stderr",
     "output_type": "stream",
     "text": [
      "Epoch 27: 100%|██████████| 625/625 [01:11<00:00,  8.77it/s]\n"
     ]
    },
    {
     "name": "stdout",
     "output_type": "stream",
     "text": [
      "[Epoch 27] Train Loss: 0.1863 | Val Loss: 0.6942 | Val Acc: 0.53|Val CER: 0.13\n"
     ]
    },
    {
     "name": "stderr",
     "output_type": "stream",
     "text": [
      "Epoch 28: 100%|██████████| 625/625 [00:42<00:00, 14.73it/s]\n"
     ]
    },
    {
     "name": "stdout",
     "output_type": "stream",
     "text": [
      "[Epoch 28] Train Loss: 0.1695 | Val Loss: 0.7608 | Val Acc: 0.51|Val CER: 0.14\n"
     ]
    },
    {
     "name": "stderr",
     "output_type": "stream",
     "text": [
      "Epoch 29: 100%|██████████| 625/625 [00:47<00:00, 13.23it/s]\n"
     ]
    },
    {
     "name": "stdout",
     "output_type": "stream",
     "text": [
      "[Epoch 29] Train Loss: 0.1597 | Val Loss: 0.7672 | Val Acc: 0.52|Val CER: 0.14\n"
     ]
    },
    {
     "name": "stderr",
     "output_type": "stream",
     "text": [
      "Epoch 30: 100%|██████████| 625/625 [00:44<00:00, 14.14it/s]\n"
     ]
    },
    {
     "name": "stdout",
     "output_type": "stream",
     "text": [
      "[Epoch 30] Train Loss: 0.1400 | Val Loss: 0.7878 | Val Acc: 0.55|Val CER: 0.12\n"
     ]
    },
    {
     "name": "stderr",
     "output_type": "stream",
     "text": [
      "Epoch 31: 100%|██████████| 625/625 [00:43<00:00, 14.23it/s]\n"
     ]
    },
    {
     "name": "stdout",
     "output_type": "stream",
     "text": [
      "[Epoch 31] Train Loss: 0.1377 | Val Loss: 0.6360 | Val Acc: 0.57|Val CER: 0.12\n"
     ]
    },
    {
     "name": "stderr",
     "output_type": "stream",
     "text": [
      "Epoch 32: 100%|██████████| 625/625 [00:59<00:00, 10.48it/s]\n"
     ]
    },
    {
     "name": "stdout",
     "output_type": "stream",
     "text": [
      "[Epoch 32] Train Loss: 0.1133 | Val Loss: 0.6577 | Val Acc: 0.54|Val CER: 0.13\n"
     ]
    },
    {
     "name": "stderr",
     "output_type": "stream",
     "text": [
      "Epoch 33: 100%|██████████| 625/625 [00:42<00:00, 14.74it/s]\n"
     ]
    },
    {
     "name": "stdout",
     "output_type": "stream",
     "text": [
      "[Epoch 33] Train Loss: 0.1115 | Val Loss: 0.7233 | Val Acc: 0.55|Val CER: 0.12\n"
     ]
    },
    {
     "name": "stderr",
     "output_type": "stream",
     "text": [
      "Epoch 34: 100%|██████████| 625/625 [00:42<00:00, 14.67it/s]\n"
     ]
    },
    {
     "name": "stdout",
     "output_type": "stream",
     "text": [
      "[Epoch 34] Train Loss: 0.0926 | Val Loss: 0.6731 | Val Acc: 0.54|Val CER: 0.13\n"
     ]
    },
    {
     "name": "stderr",
     "output_type": "stream",
     "text": [
      "Epoch 35: 100%|██████████| 625/625 [00:42<00:00, 14.80it/s]\n"
     ]
    },
    {
     "name": "stdout",
     "output_type": "stream",
     "text": [
      "[Epoch 35] Train Loss: 0.1010 | Val Loss: 0.7754 | Val Acc: 0.55|Val CER: 0.13\n"
     ]
    },
    {
     "name": "stderr",
     "output_type": "stream",
     "text": [
      "Epoch 36: 100%|██████████| 625/625 [00:43<00:00, 14.46it/s]\n"
     ]
    },
    {
     "name": "stdout",
     "output_type": "stream",
     "text": [
      "[Epoch 36] Train Loss: 0.0994 | Val Loss: 0.7292 | Val Acc: 0.56|Val CER: 0.12\n"
     ]
    },
    {
     "name": "stderr",
     "output_type": "stream",
     "text": [
      "Epoch 37: 100%|██████████| 625/625 [01:07<00:00,  9.29it/s]\n"
     ]
    },
    {
     "name": "stdout",
     "output_type": "stream",
     "text": [
      "[Epoch 37] Train Loss: 0.0782 | Val Loss: 0.6609 | Val Acc: 0.56|Val CER: 0.13\n"
     ]
    },
    {
     "name": "stderr",
     "output_type": "stream",
     "text": [
      "Epoch 38: 100%|██████████| 625/625 [00:42<00:00, 14.81it/s]\n"
     ]
    },
    {
     "name": "stdout",
     "output_type": "stream",
     "text": [
      "[Epoch 38] Train Loss: 0.0809 | Val Loss: 0.7061 | Val Acc: 0.58|Val CER: 0.12\n"
     ]
    },
    {
     "name": "stderr",
     "output_type": "stream",
     "text": [
      "Epoch 39: 100%|██████████| 625/625 [00:41<00:00, 15.22it/s]\n"
     ]
    },
    {
     "name": "stdout",
     "output_type": "stream",
     "text": [
      "[Epoch 39] Train Loss: 0.0720 | Val Loss: 0.7956 | Val Acc: 0.52|Val CER: 0.14\n"
     ]
    },
    {
     "name": "stderr",
     "output_type": "stream",
     "text": [
      "Epoch 40: 100%|██████████| 625/625 [00:41<00:00, 15.24it/s]\n"
     ]
    },
    {
     "name": "stdout",
     "output_type": "stream",
     "text": [
      "[Epoch 40] Train Loss: 0.0789 | Val Loss: 0.7515 | Val Acc: 0.56|Val CER: 0.13\n"
     ]
    },
    {
     "name": "stderr",
     "output_type": "stream",
     "text": [
      "Epoch 41: 100%|██████████| 625/625 [00:41<00:00, 15.03it/s]\n"
     ]
    },
    {
     "name": "stdout",
     "output_type": "stream",
     "text": [
      "[Epoch 41] Train Loss: 0.0649 | Val Loss: 0.6873 | Val Acc: 0.58|Val CER: 0.12\n"
     ]
    },
    {
     "name": "stderr",
     "output_type": "stream",
     "text": [
      "Epoch 42: 100%|██████████| 625/625 [00:40<00:00, 15.25it/s]\n"
     ]
    },
    {
     "name": "stdout",
     "output_type": "stream",
     "text": [
      "[Epoch 42] Train Loss: 0.0577 | Val Loss: 0.7558 | Val Acc: 0.58|Val CER: 0.11\n"
     ]
    },
    {
     "name": "stderr",
     "output_type": "stream",
     "text": [
      "Epoch 43: 100%|██████████| 625/625 [00:40<00:00, 15.35it/s]\n"
     ]
    },
    {
     "name": "stdout",
     "output_type": "stream",
     "text": [
      "[Epoch 43] Train Loss: 0.0651 | Val Loss: 0.7653 | Val Acc: 0.56|Val CER: 0.12\n"
     ]
    },
    {
     "name": "stderr",
     "output_type": "stream",
     "text": [
      "Epoch 44: 100%|██████████| 625/625 [00:41<00:00, 15.24it/s]\n"
     ]
    },
    {
     "name": "stdout",
     "output_type": "stream",
     "text": [
      "[Epoch 44] Train Loss: 0.0663 | Val Loss: 0.7494 | Val Acc: 0.56|Val CER: 0.12\n"
     ]
    },
    {
     "name": "stderr",
     "output_type": "stream",
     "text": [
      "Epoch 45: 100%|██████████| 625/625 [00:57<00:00, 10.87it/s]\n"
     ]
    },
    {
     "name": "stdout",
     "output_type": "stream",
     "text": [
      "[Epoch 45] Train Loss: 0.0531 | Val Loss: 0.6892 | Val Acc: 0.56|Val CER: 0.12\n"
     ]
    },
    {
     "name": "stderr",
     "output_type": "stream",
     "text": [
      "Epoch 46: 100%|██████████| 625/625 [00:55<00:00, 11.26it/s]\n"
     ]
    },
    {
     "name": "stdout",
     "output_type": "stream",
     "text": [
      "[Epoch 46] Train Loss: 0.0513 | Val Loss: 0.7470 | Val Acc: 0.56|Val CER: 0.12\n"
     ]
    },
    {
     "name": "stderr",
     "output_type": "stream",
     "text": [
      "Epoch 47: 100%|██████████| 625/625 [00:44<00:00, 14.00it/s]\n"
     ]
    },
    {
     "name": "stdout",
     "output_type": "stream",
     "text": [
      "[Epoch 47] Train Loss: 0.0622 | Val Loss: 0.7226 | Val Acc: 0.56|Val CER: 0.13\n"
     ]
    },
    {
     "name": "stderr",
     "output_type": "stream",
     "text": [
      "Epoch 48: 100%|██████████| 625/625 [00:45<00:00, 13.65it/s]\n"
     ]
    },
    {
     "name": "stdout",
     "output_type": "stream",
     "text": [
      "[Epoch 48] Train Loss: 0.0466 | Val Loss: 0.8017 | Val Acc: 0.58|Val CER: 0.12\n"
     ]
    },
    {
     "name": "stderr",
     "output_type": "stream",
     "text": [
      "Epoch 49: 100%|██████████| 625/625 [00:42<00:00, 14.63it/s]\n"
     ]
    },
    {
     "name": "stdout",
     "output_type": "stream",
     "text": [
      "[Epoch 49] Train Loss: 0.0440 | Val Loss: 0.6097 | Val Acc: 0.59|Val CER: 0.12\n"
     ]
    },
    {
     "name": "stderr",
     "output_type": "stream",
     "text": [
      "Epoch 50: 100%|██████████| 625/625 [00:42<00:00, 14.72it/s]\n"
     ]
    },
    {
     "name": "stdout",
     "output_type": "stream",
     "text": [
      "[Epoch 50] Train Loss: 0.0487 | Val Loss: 0.7357 | Val Acc: 0.58|Val CER: 0.12\n",
      "Training complete.\n"
     ]
    }
   ],
   "source": [
    "model=train()"
   ]
  },
  {
   "cell_type": "code",
   "execution_count": null,
   "id": "f465de4b",
   "metadata": {},
   "outputs": [
    {
     "ename": "SyntaxError",
     "evalue": "invalid syntax. Perhaps you forgot a comma? (3153723720.py, line 2)",
     "output_type": "error",
     "traceback": [
      "  \u001b[36mCell\u001b[39m\u001b[36m \u001b[39m\u001b[32mIn[117]\u001b[39m\u001b[32m, line 2\u001b[39m\n\u001b[31m    \u001b[39m\u001b[31m'epoch': 50\u001b[39m\n             ^\n\u001b[31mSyntaxError\u001b[39m\u001b[31m:\u001b[39m invalid syntax. Perhaps you forgot a comma?\n"
     ]
    }
   ],
   "source": [
    "optimizer=optim.AdamW\n",
    "torch.save({\n",
    "    'epoch': 50,\n",
    "    'model_state_dict': model.state_dict(),\n",
    "    'optimizer_state_dict': optimizer.state_dict()\n",
    "}, 'crnn_ctc_checkpoint.pth')"
   ]
  },
  {
   "cell_type": "code",
   "execution_count": null,
   "id": "161d39d9",
   "metadata": {},
   "outputs": [],
   "source": []
  }
 ],
 "metadata": {
  "kernelspec": {
   "display_name": "dpenv",
   "language": "python",
   "name": "python3"
  },
  "language_info": {
   "codemirror_mode": {
    "name": "ipython",
    "version": 3
   },
   "file_extension": ".py",
   "mimetype": "text/x-python",
   "name": "python",
   "nbconvert_exporter": "python",
   "pygments_lexer": "ipython3",
   "version": "3.13.2"
  }
 },
 "nbformat": 4,
 "nbformat_minor": 5
}
